{
  "nbformat": 4,
  "nbformat_minor": 0,
  "metadata": {
    "colab": {
      "provenance": []
    },
    "kernelspec": {
      "name": "python3",
      "display_name": "Python 3"
    },
    "language_info": {
      "name": "python"
    }
  },
  "cells": [
    {
      "cell_type": "markdown",
      "source": [
        "ICP 1 by August Cross (700720300)"
      ],
      "metadata": {
        "id": "JI0bGmupqhAK"
      }
    },
    {
      "cell_type": "code",
      "source": [
        "# Question 5a: input user string; remove two characters and reverse input\n",
        "\n",
        "# Initialize input\n",
        "user_input = input(\"Please enter a string: \")\n",
        "\n",
        "# Identify input\n",
        "# print(type(user_input))\n",
        "\n",
        "# Chop input\n",
        "input_len = len(user_input)\n",
        "mod_user_input = user_input[:(input_len - 2)]\n",
        "\n",
        "# Print input\n",
        "print(mod_user_input)\n",
        "print(mod_user_input[::-1])\n",
        "\n",
        "# Question 5b: Use arithmatic with user input numbers\n",
        "\n",
        "# Initialize input\n",
        "user_input_1 = input(\"Please enter a number: \")\n",
        "user_input_2 = input(\"Please enter a number: \")\n",
        "\n",
        "print(int(user_input_1) + int(user_input_2))\n",
        "print(int(user_input_1) - int(user_input_2))\n",
        "print(int(user_input_1) * int(user_input_2))\n",
        "print(int(user_input_1) / int(user_input_2))"
      ],
      "metadata": {
        "colab": {
          "base_uri": "https://localhost:8080/"
        },
        "id": "zUvi00CiqmXB",
        "outputId": "757b3af2-6f1e-4fee-ba61-65469838dfc8"
      },
      "execution_count": null,
      "outputs": [
        {
          "output_type": "stream",
          "name": "stdout",
          "text": [
            "Please enter a string: python\n",
            "pyth\n",
            "htyp\n",
            "Please enter a number: 1\n",
            "Please enter a number: 2\n",
            "3\n",
            "-1\n",
            "2\n",
            "0.5\n"
          ]
        }
      ]
    },
    {
      "cell_type": "code",
      "source": [
        "# Question 6: Intake a string, replace each instance of \"python\" into \"pythons\"\n",
        "\n",
        "user_input = input(\"Please enter a string: \")\n",
        "print(user_input.replace(\"python\", \"pythons\"))"
      ],
      "metadata": {
        "colab": {
          "base_uri": "https://localhost:8080/"
        },
        "id": "sVCQK4p4uWNL",
        "outputId": "a003094f-301c-42f8-8eb7-4771a48ed116"
      },
      "execution_count": null,
      "outputs": [
        {
          "output_type": "stream",
          "name": "stdout",
          "text": [
            "Please enter a string: I love python, python is so great\n",
            "I love pythons, pythons is so great\n"
          ]
        }
      ]
    },
    {
      "cell_type": "code",
      "source": [
        "# Question 7: Input user grade- print what letter grade it is (based on syllabus class structure)\n",
        "\n",
        "user_input = input(\"Please enter a number grade: \")\n",
        "\n",
        "if float(user_input) >= 90.0:\n",
        "    print(\"User grade: A\")\n",
        "elif float(user_input) >= 80.0:\n",
        "    print(\"User grade: B\")\n",
        "elif float(user_input) >= 70.0:\n",
        "    print(\"User grade: C\")\n",
        "elif float(user_input) >= 60.0:\n",
        "    print(\"User grade: D\")\n",
        "else:\n",
        "    print(\"User grade: F\")"
      ],
      "metadata": {
        "colab": {
          "base_uri": "https://localhost:8080/"
        },
        "id": "IJl0tEkhvtCc",
        "outputId": "e74bf764-0b8a-48e1-d588-fed3698a8575"
      },
      "execution_count": null,
      "outputs": [
        {
          "output_type": "stream",
          "name": "stdout",
          "text": [
            "Please enter a number grade: 89.5\n",
            "User grade: B\n"
          ]
        }
      ]
    },
    {
      "cell_type": "code",
      "source": [
        "# Question 8: Write a code that appends the type of elements from a given list\n",
        "\n",
        "input_list = [23, 23.5, \"hello\", True, [1, 2, 3], 'a', {\"Bananas\", \"Tomatos\", \"Eggs\"}]\n",
        "input_type = []\n",
        "\n",
        "for i in input_list:\n",
        "    input_type.append(type(i))\n",
        "\n",
        "print(input_type)\n",
        "\n"
      ],
      "metadata": {
        "colab": {
          "base_uri": "https://localhost:8080/"
        },
        "id": "81WGkdqLwyvU",
        "outputId": "4fdbf2b8-0cd6-4aef-924e-c3b16f7cf95c"
      },
      "execution_count": null,
      "outputs": [
        {
          "output_type": "stream",
          "name": "stdout",
          "text": [
            "[<class 'int'>, <class 'float'>, <class 'str'>, <class 'bool'>, <class 'list'>, <class 'str'>, <class 'set'>]\n"
          ]
        }
      ]
    },
    {
      "cell_type": "code",
      "source": [
        "# Question 9: Modify lists via assortment of modifications\n",
        "\n",
        "IT_companies = {'Facebook', 'Google', 'Microsoft', 'Apple', 'IBM', 'Oracle', 'Amazon'}\n",
        "A = {19, 22, 24, 20, 25, 26}\n",
        "B = {19, 22, 20, 25, 26, 24, 28, 27}\n",
        "age = [22, 19, 24, 25, 26, 24, 25, 24]\n",
        "\n",
        "# Find the length of the set IT_companies\n",
        "\n",
        "print(\"Length of IT_companies\",len(IT_companies))\n",
        "\n",
        "# Add 'Twitter' to IT_companies\n",
        "\n",
        "IT_companies.add('Twitter')\n",
        "print(\"IT_companies after adding 'Twitter': \",IT_companies)\n",
        "print(\"Length of IT_companies\",len(IT_companies))\n",
        "\n",
        "# Insert multiple IT companies at once to the set IT_companies\n",
        "\n",
        "IT_companies.update({'Meta', 'X', 'Atari'})\n",
        "print(\"IT_companies after adding 'Meta', 'X', and 'Atari': \",IT_companies)\n",
        "print(\"Length of IT_companies\",len(IT_companies))\n",
        "\n",
        "# Remove one of the companies from the set IT_companies\n",
        "\n",
        "IT_companies.remove('Twitter')\n",
        "print(\"IT_companies after removing 'Twitter': \",IT_companies)\n",
        "print(\"Length of IT_companies\",len(IT_companies))\n",
        "\n",
        "# What is the difference between remove and discard\n",
        "\n",
        "# Remove works to specifically discard a certain element that is predetermined. If it's not there, it will raise an error. Discard will not do that.\n",
        "\n",
        "# Join A and B\n",
        "\n",
        "C = A.union(B)\n",
        "print(\"Union of A and B: \",C)\n",
        "\n",
        "# Find A intersection B\n",
        "\n",
        "D = A.intersection(B)\n",
        "print(\"Intersection of A and B\",D)\n",
        "\n",
        "# Is A subset of B\n",
        "\n",
        "# Yes. For a set to be a subset of another, it must comprise completely of elements in the set it is \"sub\" to. We can even use the 'issubset' function to tell\n",
        "print(\"Is A subset of B? \",A.issubset(B))\n",
        "\n",
        "# Are A and B disjoint sets\n",
        "\n",
        "# No. For a set to be a disjoint set of another, it must have no identical elements. Since A is a subset of B, this is impossible. We can even use the 'isdisjoint' function to tell\n",
        "print(\"Are A and B disjoint sets? \",A.isdisjoint(B))\n",
        "\n",
        "# Join A with B and B with A\n",
        "\n",
        "E = A.union(B)\n",
        "F = B.union(A)\n",
        "print(\"Join A with B: \",E)\n",
        "print(\"Join B with A: \",F)\n",
        "\n",
        "# What is the symmetric difference between A and B\n",
        "\n",
        "print(\"Symmetric difference between A and B: \",A.symmetric_difference(B))\n",
        "\n",
        "# Delete the sets completely\n",
        "\n",
        "A.clear()\n",
        "B.clear()\n",
        "C.clear()\n",
        "D.clear()\n",
        "E.clear()\n",
        "F.clear()\n",
        "\n",
        "# Convert the ages to a set and compare the length of the list and the set.\n",
        "\n",
        "print(\"The length of the age list is: \",len(age),\". The length of the age set is: \",len(set(age)),\".\")\n"
      ],
      "metadata": {
        "colab": {
          "base_uri": "https://localhost:8080/"
        },
        "id": "r2FwpdYbfmlA",
        "outputId": "dc028080-a3ea-4b08-ea00-8c814fbdc5e3"
      },
      "execution_count": null,
      "outputs": [
        {
          "output_type": "stream",
          "name": "stdout",
          "text": [
            "Length of IT_companies 7\n",
            "IT_companies after adding 'Twitter':  {'Facebook', 'Amazon', 'Twitter', 'Apple', 'Google', 'IBM', 'Oracle', 'Microsoft'}\n",
            "Length of IT_companies 8\n",
            "IT_companies after adding 'Meta', 'X', and 'Atari':  {'Twitter', 'Google', 'Microsoft', 'Facebook', 'Meta', 'Amazon', 'Atari', 'Apple', 'IBM', 'X', 'Oracle'}\n",
            "Length of IT_companies 11\n",
            "IT_companies after removing 'Twitter':  {'Google', 'Microsoft', 'Facebook', 'Meta', 'Amazon', 'Atari', 'Apple', 'IBM', 'X', 'Oracle'}\n",
            "Length of IT_companies 10\n",
            "Union of A and B:  {19, 20, 22, 24, 25, 26, 27, 28}\n",
            "Intersection of A and B {19, 20, 22, 24, 25, 26}\n",
            "Is A subset of B?  True\n",
            "Are A and B disjoint sets?  False\n",
            "Join A with B:  {19, 20, 22, 24, 25, 26, 27, 28}\n",
            "Join B with A:  {19, 20, 22, 24, 25, 26, 27, 28}\n",
            "Symmetric difference between A and B:  {27, 28}\n",
            "set()\n",
            "set()\n",
            "set()\n",
            "set()\n",
            "set()\n",
            "set()\n",
            "The length of the age list is:  8 . The length of the age set is:  5 .\n"
          ]
        }
      ]
    }
  ]
}